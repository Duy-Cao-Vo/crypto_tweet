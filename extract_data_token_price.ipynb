{
 "cells": [
  {
   "cell_type": "code",
   "execution_count": 1,
   "id": "d53fd766",
   "metadata": {},
   "outputs": [],
   "source": [
    "apikey = 'efo6iQ4z3t93SO9cGy6k'\n",
    "import time\n",
    "import datetime\n",
    "import pandas as pd\n",
    " \n",
    "def human_to_timestamp(string):\n",
    "    return time.mktime(datetime.strptime(string,\n",
    "                                            \"%Y-%m-%d\").timetuple())\n",
    "import requests\n",
    "def get_tokenview(_from, _to):\n",
    "    body = {\n",
    "    \"network\":\"btc\",\n",
    "    \"from\":human_to_timestamp(_from), #human_to_timestamp('2019-12-01'), #start time UTC\n",
    "    \"to\": human_to_timestamp(_to), #human_to_timestamp('2019-12-28'), # end timeUTC\n",
    "    \"amount\":1000, # min amount\n",
    "    \"currency\":\"btc\" # unit\n",
    "    }\n",
    "    r = requests.post(f'https://services.tokenview.io/vipapi/tx/unusual/amount/1/5?apikey={apikey}', json=body)\n",
    "    if r.status_code == 200:\n",
    "        if r.json()['code']==1:\n",
    "            return pd.DataFrame(r.json()['data'])\n",
    "    return None"
   ]
  },
  {
   "cell_type": "code",
   "execution_count": 59,
   "id": "b19af0d1",
   "metadata": {},
   "outputs": [],
   "source": [
    "    _from = '2024-01-01'\n",
    "    _to = '2024-01-02'\n",
    "    body = {\n",
    "    \"network\":\"btc\",\n",
    "    \"from\":human_to_timestamp(_from), #human_to_timestamp('2019-12-01'), #start time UTC\n",
    "    \"to\": human_to_timestamp(_to), #human_to_timestamp('2019-12-28'), # end timeUTC\n",
    "    \"amount\":1000, # min amount\n",
    "    \"currency\":\"btc\" # unit\n",
    "    }\n",
    "    r = requests.post(f'https://services.tokenview.io/vipapi/tx/unusual/amount/1/5?apikey={apikey}', json=body)"
   ]
  },
  {
   "cell_type": "code",
   "execution_count": 60,
   "id": "077f453b",
   "metadata": {},
   "outputs": [
    {
     "data": {
      "text/plain": [
       "{'code': 1,\n",
       " 'msg': '成功',\n",
       " 'data': {'page': 1,\n",
       "  'size': 5,\n",
       "  'total': 32,\n",
       "  'data': [{'network': 'BTC',\n",
       "    'txid': '405efa8b6098352497281e999567fe37ff4eec6c90f0b1705bba1338bc5e60d2',\n",
       "    'addr': 'bc1qa3phj5uhnuauk6r62cku6r6fl9rawqx4n6d690',\n",
       "    'to_addr': '1Byon3tCq5GQYVGGdjXH4FgUQuX3zvRAWF',\n",
       "    'amount': '1475.55554753',\n",
       "    'height': 823888,\n",
       "    'time': 1704124038,\n",
       "    'date': '2024-01-01T00:00:00.000+00:00',\n",
       "    'value': '1475.55554753'},\n",
       "   {'network': 'BTC',\n",
       "    'txid': '86d912880056f46604f5e82567e5037cfd4d3bc4fb7a8cf0d4b1f3f02950f570',\n",
       "    'addr': '14HeA1YRUiJGb95HVpVTBuavMUBYGk6y7R',\n",
       "    'to_addr': 'bc1qa3phj5uhnuauk6r62cku6r6fl9rawqx4n6d690',\n",
       "    'amount': '1347.30863754',\n",
       "    'height': 823882,\n",
       "    'time': 1704120617,\n",
       "    'date': '2024-01-01T00:00:00.000+00:00',\n",
       "    'value': '1347.30863754'},\n",
       "   {'network': 'BTC',\n",
       "    'txid': 'a075524114f4674efa64f723a65cf54de305561baa99e02ffd706e23d4e518ad',\n",
       "    'addr': '15zSgcHejx2op9pwvRGkbubchiUq4LtSu4',\n",
       "    'to_addr': '1GHMyGySpy3P3JyPyHxX4AmP7scQENeSVq',\n",
       "    'amount': '1009.93211847',\n",
       "    'height': 823816,\n",
       "    'time': 1704083047,\n",
       "    'date': '2024-01-01T00:00:00.000+00:00',\n",
       "    'value': '1009.93211847'},\n",
       "   {'network': 'BTC',\n",
       "    'txid': 'ad89fcd815586e4dab2dbb2e532c078da166b8894eb30996ef500a610d0c69f6',\n",
       "    'addr': '15JGpg95g3rjPM3uSTBjf9h3Ei9tDBhLYQ',\n",
       "    'to_addr': 'bc1qsls7tgj6e2rzc65a22m5ck7nd3dlcsn0787r70',\n",
       "    'amount': '1009.93184594',\n",
       "    'height': 823815,\n",
       "    'time': 1704082024,\n",
       "    'date': '2024-01-01T00:00:00.000+00:00',\n",
       "    'value': '1009.93184594'},\n",
       "   {'network': 'BTC',\n",
       "    'txid': 'e48d675ebdfd9799fa0675c58639803e8f80f09a5c7731c236adec158ca4a774',\n",
       "    'addr': '14TQMLcHvYjVnf949cqnKExfu9sGj2vAXH',\n",
       "    'to_addr': '15zSgcHejx2op9pwvRGkbubchiUq4LtSu4',\n",
       "    'amount': '1009.93517407',\n",
       "    'height': 823814,\n",
       "    'time': 1704081864,\n",
       "    'date': '2024-01-01T00:00:00.000+00:00',\n",
       "    'value': '1009.93517407'}]}}"
      ]
     },
     "execution_count": 60,
     "metadata": {},
     "output_type": "execute_result"
    }
   ],
   "source": [
    "r.json()"
   ]
  },
  {
   "cell_type": "code",
   "execution_count": 35,
   "id": "e76d5e6f",
   "metadata": {},
   "outputs": [],
   "source": [
    "from datetime import datetime, timedelta\n",
    "\n",
    "start_date = '2020-01-01'\n",
    "start_date = datetime.strptime(start_date, '%Y-%m-%d')\n",
    "end_date = '2024-01-09'\n",
    "end_date = datetime.strptime(end_date, '%Y-%m-%d')\n",
    "\n",
    "d = start_date\n",
    "end_points = []\n",
    "while d < end_date:\n",
    "    next_d = d + timedelta(days=2)\n",
    "    end_points.append(('bitcoin', d.strftime('%Y-%m-%d'), next_d.strftime('%Y-%m-%d')))\n",
    "    d = d + timedelta(days=2)"
   ]
  },
  {
   "cell_type": "code",
   "execution_count": 58,
   "id": "e49ae3d0",
   "metadata": {},
   "outputs": [
    {
     "name": "stdout",
     "output_type": "stream",
     "text": [
      "200\n"
     ]
    },
    {
     "data": {
      "text/html": [
       "<div>\n",
       "<style scoped>\n",
       "    .dataframe tbody tr th:only-of-type {\n",
       "        vertical-align: middle;\n",
       "    }\n",
       "\n",
       "    .dataframe tbody tr th {\n",
       "        vertical-align: top;\n",
       "    }\n",
       "\n",
       "    .dataframe thead th {\n",
       "        text-align: right;\n",
       "    }\n",
       "</style>\n",
       "<table border=\"1\" class=\"dataframe\">\n",
       "  <thead>\n",
       "    <tr style=\"text-align: right;\">\n",
       "      <th></th>\n",
       "      <th>page</th>\n",
       "      <th>size</th>\n",
       "      <th>total</th>\n",
       "      <th>data</th>\n",
       "    </tr>\n",
       "  </thead>\n",
       "  <tbody>\n",
       "    <tr>\n",
       "      <th>0</th>\n",
       "      <td>1</td>\n",
       "      <td>5</td>\n",
       "      <td>42</td>\n",
       "      <td>{'network': 'BTC', 'txid': '8045a66c1e6c138518...</td>\n",
       "    </tr>\n",
       "    <tr>\n",
       "      <th>1</th>\n",
       "      <td>1</td>\n",
       "      <td>5</td>\n",
       "      <td>42</td>\n",
       "      <td>{'network': 'BTC', 'txid': '6d12d8bc3779483465...</td>\n",
       "    </tr>\n",
       "    <tr>\n",
       "      <th>2</th>\n",
       "      <td>1</td>\n",
       "      <td>5</td>\n",
       "      <td>42</td>\n",
       "      <td>{'network': 'BTC', 'txid': '6bc14336424c57193b...</td>\n",
       "    </tr>\n",
       "    <tr>\n",
       "      <th>3</th>\n",
       "      <td>1</td>\n",
       "      <td>5</td>\n",
       "      <td>42</td>\n",
       "      <td>{'network': 'BTC', 'txid': '38e99c5c3a290cb94d...</td>\n",
       "    </tr>\n",
       "    <tr>\n",
       "      <th>4</th>\n",
       "      <td>1</td>\n",
       "      <td>5</td>\n",
       "      <td>42</td>\n",
       "      <td>{'network': 'BTC', 'txid': '4837ae128c0e6746cc...</td>\n",
       "    </tr>\n",
       "  </tbody>\n",
       "</table>\n",
       "</div>"
      ],
      "text/plain": [
       "   page  size  total                                               data\n",
       "0     1     5     42  {'network': 'BTC', 'txid': '8045a66c1e6c138518...\n",
       "1     1     5     42  {'network': 'BTC', 'txid': '6d12d8bc3779483465...\n",
       "2     1     5     42  {'network': 'BTC', 'txid': '6bc14336424c57193b...\n",
       "3     1     5     42  {'network': 'BTC', 'txid': '38e99c5c3a290cb94d...\n",
       "4     1     5     42  {'network': 'BTC', 'txid': '4837ae128c0e6746cc..."
      ]
     },
     "execution_count": 58,
     "metadata": {},
     "output_type": "execute_result"
    }
   ],
   "source": [
    "get_tokenview(end_points[-1][1], end_points[-1][2])"
   ]
  },
  {
   "cell_type": "code",
   "execution_count": 51,
   "id": "aa11181a",
   "metadata": {},
   "outputs": [
    {
     "name": "stdout",
     "output_type": "stream",
     "text": [
      "200\n"
     ]
    }
   ],
   "source": [
    "a = get_tokenview('2024-01-01', '2024-01-21')"
   ]
  },
  {
   "cell_type": "code",
   "execution_count": 52,
   "id": "d14851df",
   "metadata": {},
   "outputs": [
    {
     "data": {
      "text/plain": [
       "{'code': 1,\n",
       " 'msg': '成功',\n",
       " 'data': {'page': 1,\n",
       "  'size': 5,\n",
       "  'total': 644,\n",
       "  'data': [{'network': 'BTC',\n",
       "    'txid': 'c556f53785ed4d7b313ad356eda24fb29021331ca703f05a64a86d369f152e8f',\n",
       "    'addr': '11Ah5Z48W6iAF5Nfq5xioyF4XFpwJBjon',\n",
       "    'to_addr': '1EMwvsU5Wp2NpBKn67CnExjZKXyMBcDSKt',\n",
       "    'amount': '1085.97480078',\n",
       "    'height': 826519,\n",
       "    'time': 1705737616,\n",
       "    'date': '2024-01-20T00:00:00.000+00:00',\n",
       "    'value': '1085.97480078'},\n",
       "   {'network': 'BTC',\n",
       "    'txid': '89618145b1c68aee5af415e7a2f7c3bc6c322b0b015919575363a0509ab3e986',\n",
       "    'addr': '1AveTU1pdJNsKq6kBqbVoKQkp472X4z926',\n",
       "    'to_addr': '1CuALwuFJQQVSmUmpoA81yKJACBGJdeo3U',\n",
       "    'amount': '1085.97480078',\n",
       "    'height': 826519,\n",
       "    'time': 1705737616,\n",
       "    'date': '2024-01-20T00:00:00.000+00:00',\n",
       "    'value': '1085.97480078'},\n",
       "   {'network': 'BTC',\n",
       "    'txid': '9ca9915e2dfe7e7efd18f0844755c70f3c429a1577352629f92bda40f9d65378',\n",
       "    'addr': '3MqUP6G1daVS5YTD8fz3QgwjZortWwxXFd',\n",
       "    'to_addr': '1K297dCAsEhCyPAk42PhBMRiKu2ws3hGHL',\n",
       "    'amount': '1455.06826368',\n",
       "    'height': 826476,\n",
       "    'time': 1705713799,\n",
       "    'date': '2024-01-20T00:00:00.000+00:00',\n",
       "    'value': '1455.06826368'},\n",
       "   {'network': 'BTC',\n",
       "    'txid': 'cc391234f0f6e8a1b527772c79d32326416eaef9cdb22fbaa921ef943e254afb',\n",
       "    'addr': '3MqUP6G1daVS5YTD8fz3QgwjZortWwxXFd',\n",
       "    'to_addr': '1AaGFZwzFnVST3DSkApFjk7tJCNmGfDmUo',\n",
       "    'amount': '1454.22514318',\n",
       "    'height': 826474,\n",
       "    'time': 1705713382,\n",
       "    'date': '2024-01-20T00:00:00.000+00:00',\n",
       "    'value': '1454.22514318'},\n",
       "   {'network': 'BTC',\n",
       "    'txid': '010834d7150d936f72c6291fcd65fc46a099bed7cde5240b652f2bc8f61e216d',\n",
       "    'addr': '3MqUP6G1daVS5YTD8fz3QgwjZortWwxXFd',\n",
       "    'to_addr': '1AaGFZwzFnVST3DSkApFjk7tJCNmGfDmUo',\n",
       "    'amount': '1454.22514318',\n",
       "    'height': 826474,\n",
       "    'time': 1705713382,\n",
       "    'date': '2024-01-20T00:00:00.000+00:00',\n",
       "    'value': '1454.22514318'}]}}"
      ]
     },
     "execution_count": 52,
     "metadata": {},
     "output_type": "execute_result"
    }
   ],
   "source": [
    "a.json()"
   ]
  },
  {
   "cell_type": "code",
   "execution_count": null,
   "id": "457603f7",
   "metadata": {},
   "outputs": [],
   "source": [
    "import time\n",
    "df = pd.DataFrame()\n",
    "for end_point in tqdm.tqdm(end_points):\n",
    "    df_t = await get_data(end_point)\n",
    "    df = pd.concat([df,df_t])\n",
    "    time.sleep(np.random.randint(5))"
   ]
  },
  {
   "cell_type": "code",
   "execution_count": null,
   "id": "4db84f77",
   "metadata": {},
   "outputs": [],
   "source": []
  },
  {
   "cell_type": "code",
   "execution_count": null,
   "id": "8e9a3650",
   "metadata": {},
   "outputs": [],
   "source": []
  },
  {
   "cell_type": "code",
   "execution_count": 2,
   "id": "51f9d825",
   "metadata": {},
   "outputs": [],
   "source": [
    "from datetime import datetime, timedelta\n",
    "\n",
    "start_date = '2020-01-01'\n",
    "start_date = datetime.strptime(start_date, '%Y-%m-%d')\n",
    "end_date = '2024-01-21'\n",
    "end_date = datetime.strptime(end_date, '%Y-%m-%d')\n",
    "\n",
    "d = start_date\n",
    "end_points = []\n",
    "while d < end_date:\n",
    "    delta = 30\n",
    "    next_d = d + timedelta(days=delta)\n",
    "    end_points.append(('bitcoin', d.strftime('%Y-%m-%d'), next_d.strftime('%Y-%m-%d')))\n",
    "    d = d + timedelta(days=delta)"
   ]
  },
  {
   "cell_type": "code",
   "execution_count": 3,
   "id": "d48ba228",
   "metadata": {},
   "outputs": [
    {
     "data": {
      "text/plain": [
       "[('bitcoin', '2020-01-01', '2020-01-31'),\n",
       " ('bitcoin', '2020-01-31', '2020-03-01'),\n",
       " ('bitcoin', '2020-03-01', '2020-03-31'),\n",
       " ('bitcoin', '2020-03-31', '2020-04-30'),\n",
       " ('bitcoin', '2020-04-30', '2020-05-30'),\n",
       " ('bitcoin', '2020-05-30', '2020-06-29'),\n",
       " ('bitcoin', '2020-06-29', '2020-07-29'),\n",
       " ('bitcoin', '2020-07-29', '2020-08-28'),\n",
       " ('bitcoin', '2020-08-28', '2020-09-27'),\n",
       " ('bitcoin', '2020-09-27', '2020-10-27'),\n",
       " ('bitcoin', '2020-10-27', '2020-11-26'),\n",
       " ('bitcoin', '2020-11-26', '2020-12-26'),\n",
       " ('bitcoin', '2020-12-26', '2021-01-25'),\n",
       " ('bitcoin', '2021-01-25', '2021-02-24'),\n",
       " ('bitcoin', '2021-02-24', '2021-03-26'),\n",
       " ('bitcoin', '2021-03-26', '2021-04-25'),\n",
       " ('bitcoin', '2021-04-25', '2021-05-25'),\n",
       " ('bitcoin', '2021-05-25', '2021-06-24'),\n",
       " ('bitcoin', '2021-06-24', '2021-07-24'),\n",
       " ('bitcoin', '2021-07-24', '2021-08-23'),\n",
       " ('bitcoin', '2021-08-23', '2021-09-22'),\n",
       " ('bitcoin', '2021-09-22', '2021-10-22'),\n",
       " ('bitcoin', '2021-10-22', '2021-11-21'),\n",
       " ('bitcoin', '2021-11-21', '2021-12-21'),\n",
       " ('bitcoin', '2021-12-21', '2022-01-20'),\n",
       " ('bitcoin', '2022-01-20', '2022-02-19'),\n",
       " ('bitcoin', '2022-02-19', '2022-03-21'),\n",
       " ('bitcoin', '2022-03-21', '2022-04-20'),\n",
       " ('bitcoin', '2022-04-20', '2022-05-20'),\n",
       " ('bitcoin', '2022-05-20', '2022-06-19'),\n",
       " ('bitcoin', '2022-06-19', '2022-07-19'),\n",
       " ('bitcoin', '2022-07-19', '2022-08-18'),\n",
       " ('bitcoin', '2022-08-18', '2022-09-17'),\n",
       " ('bitcoin', '2022-09-17', '2022-10-17'),\n",
       " ('bitcoin', '2022-10-17', '2022-11-16'),\n",
       " ('bitcoin', '2022-11-16', '2022-12-16'),\n",
       " ('bitcoin', '2022-12-16', '2023-01-15'),\n",
       " ('bitcoin', '2023-01-15', '2023-02-14'),\n",
       " ('bitcoin', '2023-02-14', '2023-03-16'),\n",
       " ('bitcoin', '2023-03-16', '2023-04-15'),\n",
       " ('bitcoin', '2023-04-15', '2023-05-15'),\n",
       " ('bitcoin', '2023-05-15', '2023-06-14'),\n",
       " ('bitcoin', '2023-06-14', '2023-07-14'),\n",
       " ('bitcoin', '2023-07-14', '2023-08-13'),\n",
       " ('bitcoin', '2023-08-13', '2023-09-12'),\n",
       " ('bitcoin', '2023-09-12', '2023-10-12'),\n",
       " ('bitcoin', '2023-10-12', '2023-11-11'),\n",
       " ('bitcoin', '2023-11-11', '2023-12-11'),\n",
       " ('bitcoin', '2023-12-11', '2024-01-10'),\n",
       " ('bitcoin', '2024-01-10', '2024-02-09')]"
      ]
     },
     "execution_count": 3,
     "metadata": {},
     "output_type": "execute_result"
    }
   ],
   "source": [
    "end_points"
   ]
  },
  {
   "cell_type": "code",
   "execution_count": 4,
   "id": "7071c23a",
   "metadata": {},
   "outputs": [],
   "source": [
    "import requests\n",
    "import numpy as np\n",
    "import pandas as pd\n",
    "import tqdm\n",
    "from datetime import datetime\n",
    "import time\n",
    "\n",
    "def get_Unusual(_from, _to):\n",
    "    body = {\n",
    "    \"network\":\"btc\",\n",
    "    \"from\":human_to_timestamp(_from), #human_to_timestamp('2019-12-01'), #start time UTC\n",
    "    \"to\": human_to_timestamp(_to), #human_to_timestamp('2019-12-28'), # end timeUTC\n",
    "    \"amount\":1000, # min amount\n",
    "    \"currency\":\"btc\" # unit\n",
    "    }\n",
    "    r = requests.post(f'https://services.tokenview.io/vipapi/tx/unusual/count?apikey={apikey}', json=body)\n",
    "    if r.status_code == 200:\n",
    "        if 'data' in r.json():\n",
    "            return r.json()\n",
    "    return None"
   ]
  },
  {
   "cell_type": "code",
   "execution_count": 5,
   "id": "223686b0",
   "metadata": {},
   "outputs": [
    {
     "name": "stderr",
     "output_type": "stream",
     "text": [
      "100%|██████████████████████████████████████████████████████████████████████████████████| 50/50 [02:08<00:00,  2.56s/it]\n"
     ]
    }
   ],
   "source": [
    "df = pd.DataFrame()\n",
    "for e in tqdm.tqdm(end_points):\n",
    "    r = get_Unusual(e[1], e[2])\n",
    "    if r:\n",
    "        df_t = pd.DataFrame([list(i.items())[0] for i in r['data']], columns = ['d', 'Unusual'])\n",
    "        df = pd.concat([df, df_t])\n",
    "#         time.sleep(30)"
   ]
  },
  {
   "cell_type": "code",
   "execution_count": 7,
   "id": "17f71713",
   "metadata": {},
   "outputs": [],
   "source": [
    "df.to_excel(\"./data/Unusual_transaction.xlsx\", index=False)"
   ]
  },
  {
   "cell_type": "code",
   "execution_count": 8,
   "id": "29cd9561",
   "metadata": {},
   "outputs": [
    {
     "data": {
      "text/html": [
       "<div>\n",
       "<style scoped>\n",
       "    .dataframe tbody tr th:only-of-type {\n",
       "        vertical-align: middle;\n",
       "    }\n",
       "\n",
       "    .dataframe tbody tr th {\n",
       "        vertical-align: top;\n",
       "    }\n",
       "\n",
       "    .dataframe thead th {\n",
       "        text-align: right;\n",
       "    }\n",
       "</style>\n",
       "<table border=\"1\" class=\"dataframe\">\n",
       "  <thead>\n",
       "    <tr style=\"text-align: right;\">\n",
       "      <th></th>\n",
       "      <th>d</th>\n",
       "      <th>Unusual</th>\n",
       "    </tr>\n",
       "  </thead>\n",
       "  <tbody>\n",
       "    <tr>\n",
       "      <th>0</th>\n",
       "      <td>2022-05-30</td>\n",
       "      <td>5</td>\n",
       "    </tr>\n",
       "    <tr>\n",
       "      <th>1</th>\n",
       "      <td>2022-05-31</td>\n",
       "      <td>157</td>\n",
       "    </tr>\n",
       "    <tr>\n",
       "      <th>2</th>\n",
       "      <td>2022-06-01</td>\n",
       "      <td>134</td>\n",
       "    </tr>\n",
       "    <tr>\n",
       "      <th>3</th>\n",
       "      <td>2022-06-02</td>\n",
       "      <td>64</td>\n",
       "    </tr>\n",
       "    <tr>\n",
       "      <th>4</th>\n",
       "      <td>2022-06-03</td>\n",
       "      <td>78</td>\n",
       "    </tr>\n",
       "    <tr>\n",
       "      <th>...</th>\n",
       "      <td>...</td>\n",
       "      <td>...</td>\n",
       "    </tr>\n",
       "    <tr>\n",
       "      <th>7</th>\n",
       "      <td>2024-01-16</td>\n",
       "      <td>70</td>\n",
       "    </tr>\n",
       "    <tr>\n",
       "      <th>8</th>\n",
       "      <td>2024-01-17</td>\n",
       "      <td>74</td>\n",
       "    </tr>\n",
       "    <tr>\n",
       "      <th>9</th>\n",
       "      <td>2024-01-18</td>\n",
       "      <td>77</td>\n",
       "    </tr>\n",
       "    <tr>\n",
       "      <th>10</th>\n",
       "      <td>2024-01-19</td>\n",
       "      <td>69</td>\n",
       "    </tr>\n",
       "    <tr>\n",
       "      <th>11</th>\n",
       "      <td>2024-01-20</td>\n",
       "      <td>10</td>\n",
       "    </tr>\n",
       "  </tbody>\n",
       "</table>\n",
       "<p>613 rows × 2 columns</p>\n",
       "</div>"
      ],
      "text/plain": [
       "             d  Unusual\n",
       "0   2022-05-30        5\n",
       "1   2022-05-31      157\n",
       "2   2022-06-01      134\n",
       "3   2022-06-02       64\n",
       "4   2022-06-03       78\n",
       "..         ...      ...\n",
       "7   2024-01-16       70\n",
       "8   2024-01-17       74\n",
       "9   2024-01-18       77\n",
       "10  2024-01-19       69\n",
       "11  2024-01-20       10\n",
       "\n",
       "[613 rows x 2 columns]"
      ]
     },
     "execution_count": 8,
     "metadata": {},
     "output_type": "execute_result"
    }
   ],
   "source": [
    "df"
   ]
  }
 ],
 "metadata": {
  "kernelspec": {
   "display_name": "Python310",
   "language": "python",
   "name": "python310"
  },
  "language_info": {
   "codemirror_mode": {
    "name": "ipython",
    "version": 3
   },
   "file_extension": ".py",
   "mimetype": "text/x-python",
   "name": "python",
   "nbconvert_exporter": "python",
   "pygments_lexer": "ipython3",
   "version": "3.10.13"
  }
 },
 "nbformat": 4,
 "nbformat_minor": 5
}
