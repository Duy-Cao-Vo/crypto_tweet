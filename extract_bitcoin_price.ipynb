{
 "cells": [
  {
   "cell_type": "code",
   "execution_count": null,
   "id": "5fe66fac",
   "metadata": {},
   "outputs": [],
   "source": [
    "C7Jl9wpHykfQp5U2xOjr9P7E2MySTbdbBnHkEtXCC7yCQeUghkP5aoLiczyyjdyA"
   ]
  },
  {
   "cell_type": "code",
   "execution_count": null,
   "id": "d3f721d4",
   "metadata": {},
   "outputs": [],
   "source": [
    "gOFLSPhJEQNEdLmOHZVOCdPecRFPbgeDGWgM5aMB7BqxXzh6PTgMnPpvGcdWgYid"
   ]
  },
  {
   "cell_type": "code",
   "execution_count": 2,
   "id": "087f4070",
   "metadata": {},
   "outputs": [
    {
     "name": "stdout",
     "output_type": "stream",
     "text": [
      "BTCUSDT price is 43177.83000000\n"
     ]
    }
   ],
   "source": [
    "import json \n",
    "import requests \n",
    "  \n",
    "# defining key/request url \n",
    "key = \"https://api.binance.com/api/v3/ticker/price?symbol=BTCUSDT\"\n",
    "  \n",
    "# requesting data from url \n",
    "data = requests.get(key)   \n",
    "data = data.json() \n",
    "print(f\"{data['symbol']} price is {data['price']}\")"
   ]
  },
  {
   "cell_type": "code",
   "execution_count": 27,
   "id": "8be22f91",
   "metadata": {},
   "outputs": [],
   "source": [
    "import datetime\n",
    "num_days = 4000\n",
    "# Define the start and end times for the data\n",
    "end_time = datetime.datetime.now()\n",
    "start_time = end_time - datetime.timedelta(days=num_days)\n",
    "start_timestamp = int(start_time.timestamp() * 1000)\n",
    "end_timestamp = int(end_time.timestamp() * 1000)"
   ]
  },
  {
   "cell_type": "code",
   "execution_count": 12,
   "id": "55aa3762",
   "metadata": {},
   "outputs": [
    {
     "data": {
      "text/plain": [
       "datetime.datetime(2015, 10, 27, 15, 39, 5, 708749)"
      ]
     },
     "execution_count": 12,
     "metadata": {},
     "output_type": "execute_result"
    }
   ],
   "source": [
    "start_time"
   ]
  },
  {
   "cell_type": "code",
   "execution_count": 35,
   "id": "f30624c6",
   "metadata": {},
   "outputs": [],
   "source": [
    "import json\n",
    "import time\n",
    "import requests\n",
    "\n",
    "# Define the Binance API endpoint for K-line data\n",
    "endpoint = 'https://api.binance.com/api/v3/klines'\n",
    "\n",
    "# Define the parameters for the API request\n",
    "symbol = 'BTCUSDT'\n",
    "interval = '1d'\n",
    "limit = 1000\n",
    "params = {'symbol': symbol, 'interval': interval, 'startTime': start_timestamp, 'endTime': end_timestamp, 'limit': limit}\n",
    "\n",
    "# Send the API request and store the response data in a list\n",
    "data = []\n",
    "while True:\n",
    "    response = requests.get(endpoint, params=params)\n",
    "#     klines = json.loads(response.text)\n",
    "    klines = response.json()\n",
    "    data += klines\n",
    "    if len(klines) < limit:\n",
    "        break\n",
    "    params['startTime'] = int(klines[-1][0]) + 1\n",
    "    time.sleep(0.1)"
   ]
  },
  {
   "cell_type": "code",
   "execution_count": null,
   "id": "043e7281",
   "metadata": {},
   "outputs": [],
   "source": []
  },
  {
   "cell_type": "code",
   "execution_count": 36,
   "id": "5eb01f3a",
   "metadata": {},
   "outputs": [],
   "source": [
    "import pandas as pd\n",
    "\n",
    "# Create a pandas dataframe with the OHLC data and timestamps\n",
    "ohlc_data = [[float(kline[1]), float(kline[2]), float(kline[3]), float(kline[4])] for kline in data]\n",
    "df = pd.DataFrame(ohlc_data, columns=['Open', 'High', 'Low', 'Close'])\n",
    "timestamps = [datetime.datetime.fromtimestamp(int(kline[0]) / 1000) for kline in data]\n",
    "df['Timestamp'] = timestamps\n",
    "# df.set_index('Timestamp', inplace=True)"
   ]
  },
  {
   "cell_type": "code",
   "execution_count": 37,
   "id": "f9804201",
   "metadata": {},
   "outputs": [
    {
     "data": {
      "text/html": [
       "<div>\n",
       "<style scoped>\n",
       "    .dataframe tbody tr th:only-of-type {\n",
       "        vertical-align: middle;\n",
       "    }\n",
       "\n",
       "    .dataframe tbody tr th {\n",
       "        vertical-align: top;\n",
       "    }\n",
       "\n",
       "    .dataframe thead th {\n",
       "        text-align: right;\n",
       "    }\n",
       "</style>\n",
       "<table border=\"1\" class=\"dataframe\">\n",
       "  <thead>\n",
       "    <tr style=\"text-align: right;\">\n",
       "      <th></th>\n",
       "      <th>Open</th>\n",
       "      <th>High</th>\n",
       "      <th>Low</th>\n",
       "      <th>Close</th>\n",
       "      <th>Timestamp</th>\n",
       "    </tr>\n",
       "  </thead>\n",
       "  <tbody>\n",
       "    <tr>\n",
       "      <th>0</th>\n",
       "      <td>4261.48</td>\n",
       "      <td>4485.39</td>\n",
       "      <td>4200.74</td>\n",
       "      <td>4285.08</td>\n",
       "      <td>2017-08-17 07:00:00</td>\n",
       "    </tr>\n",
       "    <tr>\n",
       "      <th>1</th>\n",
       "      <td>4285.08</td>\n",
       "      <td>4371.52</td>\n",
       "      <td>3938.77</td>\n",
       "      <td>4108.37</td>\n",
       "      <td>2017-08-18 07:00:00</td>\n",
       "    </tr>\n",
       "    <tr>\n",
       "      <th>2</th>\n",
       "      <td>4108.37</td>\n",
       "      <td>4184.69</td>\n",
       "      <td>3850.00</td>\n",
       "      <td>4139.98</td>\n",
       "      <td>2017-08-19 07:00:00</td>\n",
       "    </tr>\n",
       "    <tr>\n",
       "      <th>3</th>\n",
       "      <td>4120.98</td>\n",
       "      <td>4211.08</td>\n",
       "      <td>4032.62</td>\n",
       "      <td>4086.29</td>\n",
       "      <td>2017-08-20 07:00:00</td>\n",
       "    </tr>\n",
       "    <tr>\n",
       "      <th>4</th>\n",
       "      <td>4069.13</td>\n",
       "      <td>4119.62</td>\n",
       "      <td>3911.79</td>\n",
       "      <td>4016.00</td>\n",
       "      <td>2017-08-21 07:00:00</td>\n",
       "    </tr>\n",
       "    <tr>\n",
       "      <th>...</th>\n",
       "      <td>...</td>\n",
       "      <td>...</td>\n",
       "      <td>...</td>\n",
       "      <td>...</td>\n",
       "      <td>...</td>\n",
       "    </tr>\n",
       "    <tr>\n",
       "      <th>2336</th>\n",
       "      <td>46951.04</td>\n",
       "      <td>47972.00</td>\n",
       "      <td>44748.67</td>\n",
       "      <td>46110.00</td>\n",
       "      <td>2024-01-09 07:00:00</td>\n",
       "    </tr>\n",
       "    <tr>\n",
       "      <th>2337</th>\n",
       "      <td>46110.00</td>\n",
       "      <td>47695.93</td>\n",
       "      <td>44300.36</td>\n",
       "      <td>46653.99</td>\n",
       "      <td>2024-01-10 07:00:00</td>\n",
       "    </tr>\n",
       "    <tr>\n",
       "      <th>2338</th>\n",
       "      <td>46654.00</td>\n",
       "      <td>48969.48</td>\n",
       "      <td>45606.06</td>\n",
       "      <td>46339.16</td>\n",
       "      <td>2024-01-11 07:00:00</td>\n",
       "    </tr>\n",
       "    <tr>\n",
       "      <th>2339</th>\n",
       "      <td>46339.16</td>\n",
       "      <td>46515.53</td>\n",
       "      <td>41500.00</td>\n",
       "      <td>42782.73</td>\n",
       "      <td>2024-01-12 07:00:00</td>\n",
       "    </tr>\n",
       "    <tr>\n",
       "      <th>2340</th>\n",
       "      <td>42782.74</td>\n",
       "      <td>43254.96</td>\n",
       "      <td>42436.12</td>\n",
       "      <td>43112.01</td>\n",
       "      <td>2024-01-13 07:00:00</td>\n",
       "    </tr>\n",
       "  </tbody>\n",
       "</table>\n",
       "<p>2341 rows × 5 columns</p>\n",
       "</div>"
      ],
      "text/plain": [
       "          Open      High       Low     Close           Timestamp\n",
       "0      4261.48   4485.39   4200.74   4285.08 2017-08-17 07:00:00\n",
       "1      4285.08   4371.52   3938.77   4108.37 2017-08-18 07:00:00\n",
       "2      4108.37   4184.69   3850.00   4139.98 2017-08-19 07:00:00\n",
       "3      4120.98   4211.08   4032.62   4086.29 2017-08-20 07:00:00\n",
       "4      4069.13   4119.62   3911.79   4016.00 2017-08-21 07:00:00\n",
       "...        ...       ...       ...       ...                 ...\n",
       "2336  46951.04  47972.00  44748.67  46110.00 2024-01-09 07:00:00\n",
       "2337  46110.00  47695.93  44300.36  46653.99 2024-01-10 07:00:00\n",
       "2338  46654.00  48969.48  45606.06  46339.16 2024-01-11 07:00:00\n",
       "2339  46339.16  46515.53  41500.00  42782.73 2024-01-12 07:00:00\n",
       "2340  42782.74  43254.96  42436.12  43112.01 2024-01-13 07:00:00\n",
       "\n",
       "[2341 rows x 5 columns]"
      ]
     },
     "execution_count": 37,
     "metadata": {},
     "output_type": "execute_result"
    }
   ],
   "source": [
    "df"
   ]
  },
  {
   "cell_type": "code",
   "execution_count": 39,
   "id": "4a71ae55",
   "metadata": {},
   "outputs": [],
   "source": [
    "df.to_excel('./data/btc_price.xlsx', index=True)"
   ]
  },
  {
   "cell_type": "code",
   "execution_count": 64,
   "id": "fd1f5f79",
   "metadata": {},
   "outputs": [
    {
     "data": {
      "text/plain": [
       "8"
      ]
     },
     "execution_count": 64,
     "metadata": {},
     "output_type": "execute_result"
    }
   ],
   "source": [
    "import numpy as np\n",
    "np.random.randint(10)"
   ]
  },
  {
   "cell_type": "code",
   "execution_count": null,
   "id": "66b697c6",
   "metadata": {},
   "outputs": [],
   "source": []
  }
 ],
 "metadata": {
  "kernelspec": {
   "display_name": "Python310",
   "language": "python",
   "name": "python310"
  },
  "language_info": {
   "codemirror_mode": {
    "name": "ipython",
    "version": 3
   },
   "file_extension": ".py",
   "mimetype": "text/x-python",
   "name": "python",
   "nbconvert_exporter": "python",
   "pygments_lexer": "ipython3",
   "version": "3.10.13"
  }
 },
 "nbformat": 4,
 "nbformat_minor": 5
}
